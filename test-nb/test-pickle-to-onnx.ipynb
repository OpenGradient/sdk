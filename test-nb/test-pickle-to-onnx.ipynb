{
 "cells": [
  {
   "cell_type": "code",
   "execution_count": 4,
   "metadata": {},
   "outputs": [
    {
     "name": "stdout",
     "output_type": "stream",
     "text": [
      "Current working directory: /Users/oliver/Desktop/code/opengradient/sdk\n",
      "running sdist\n",
      "running egg_info\n",
      "writing opengradient.egg-info/PKG-INFO\n",
      "writing dependency_links to opengradient.egg-info/dependency_links.txt\n",
      "writing requirements to opengradient.egg-info/requires.txt\n",
      "writing top-level names to opengradient.egg-info/top_level.txt\n",
      "reading manifest file 'opengradient.egg-info/SOURCES.txt'\n",
      "adding license file 'LICENSE'\n",
      "writing manifest file 'opengradient.egg-info/SOURCES.txt'\n",
      "running check\n",
      "creating opengradient-0.1.0\n",
      "creating opengradient-0.1.0/opengradient.egg-info\n",
      "creating opengradient-0.1.0/src\n",
      "creating opengradient-0.1.0/tests\n",
      "copying files to opengradient-0.1.0...\n",
      "copying LICENSE -> opengradient-0.1.0\n",
      "copying README.md -> opengradient-0.1.0\n",
      "copying setup.py -> opengradient-0.1.0\n",
      "copying opengradient.egg-info/PKG-INFO -> opengradient-0.1.0/opengradient.egg-info\n",
      "copying opengradient.egg-info/SOURCES.txt -> opengradient-0.1.0/opengradient.egg-info\n",
      "copying opengradient.egg-info/dependency_links.txt -> opengradient-0.1.0/opengradient.egg-info\n",
      "copying opengradient.egg-info/requires.txt -> opengradient-0.1.0/opengradient.egg-info\n",
      "copying opengradient.egg-info/top_level.txt -> opengradient-0.1.0/opengradient.egg-info\n",
      "copying src/__init__.py -> opengradient-0.1.0/src\n",
      "copying src/client.py -> opengradient-0.1.0/src\n",
      "copying src/exceptions.py -> opengradient-0.1.0/src\n",
      "copying src/types.py -> opengradient-0.1.0/src\n",
      "copying tests/test_api.py -> opengradient-0.1.0/tests\n",
      "copying tests/test_exceptions.py -> opengradient-0.1.0/tests\n",
      "copying tests/test_integration.py -> opengradient-0.1.0/tests\n",
      "copying opengradient.egg-info/SOURCES.txt -> opengradient-0.1.0/opengradient.egg-info\n",
      "Writing opengradient-0.1.0/setup.cfg\n",
      "Creating tar archive\n",
      "removing 'opengradient-0.1.0' (and everything under it)\n",
      "running bdist_wheel\n",
      "running build\n",
      "running build_py\n",
      "copying src/client.py -> build/lib/opengradient\n",
      "copying src/__init__.py -> build/lib/opengradient\n",
      "copying src/types.py -> build/lib/opengradient\n",
      "copying src/exceptions.py -> build/lib/opengradient\n",
      "/opt/miniconda3/envs/vanna-storage/lib/python3.12/site-packages/setuptools/_distutils/cmd.py:66: SetuptoolsDeprecationWarning: setup.py install is deprecated.\n",
      "!!\n",
      "\n",
      "        ********************************************************************************\n",
      "        Please avoid running ``setup.py`` directly.\n",
      "        Instead, use pypa/build, pypa/installer or other\n",
      "        standards-based tools.\n",
      "\n",
      "        See https://blog.ganssle.io/articles/2021/10/setup-py-deprecated.html for details.\n",
      "        ********************************************************************************\n",
      "\n",
      "!!\n",
      "  self.initialize_options()\n",
      "installing to build/bdist.macosx-11.1-arm64/wheel\n",
      "running install\n",
      "running install_lib\n",
      "creating build/bdist.macosx-11.1-arm64/wheel\n",
      "creating build/bdist.macosx-11.1-arm64/wheel/exceptions\n",
      "copying build/lib/exceptions/__init__.py -> build/bdist.macosx-11.1-arm64/wheel/exceptions\n",
      "copying build/lib/exceptions/api_exceptions.py -> build/bdist.macosx-11.1-arm64/wheel/exceptions\n",
      "creating build/bdist.macosx-11.1-arm64/wheel/opengradient\n",
      "copying build/lib/opengradient/client.py -> build/bdist.macosx-11.1-arm64/wheel/opengradient\n",
      "copying build/lib/opengradient/__init__.py -> build/bdist.macosx-11.1-arm64/wheel/opengradient\n",
      "copying build/lib/opengradient/types.py -> build/bdist.macosx-11.1-arm64/wheel/opengradient\n",
      "copying build/lib/opengradient/exceptions.py -> build/bdist.macosx-11.1-arm64/wheel/opengradient\n",
      "running install_egg_info\n",
      "Copying opengradient.egg-info to build/bdist.macosx-11.1-arm64/wheel/opengradient-0.1.0-py3.12.egg-info\n",
      "running install_scripts\n",
      "creating build/bdist.macosx-11.1-arm64/wheel/opengradient-0.1.0.dist-info/WHEEL\n",
      "creating 'dist/opengradient-0.1.0-py3-none-any.whl' and adding 'build/bdist.macosx-11.1-arm64/wheel' to it\n",
      "adding 'exceptions/__init__.py'\n",
      "adding 'exceptions/api_exceptions.py'\n",
      "adding 'opengradient/__init__.py'\n",
      "adding 'opengradient/client.py'\n",
      "adding 'opengradient/exceptions.py'\n",
      "adding 'opengradient/types.py'\n",
      "adding 'opengradient-0.1.0.dist-info/LICENSE'\n",
      "adding 'opengradient-0.1.0.dist-info/METADATA'\n",
      "adding 'opengradient-0.1.0.dist-info/WHEEL'\n",
      "adding 'opengradient-0.1.0.dist-info/top_level.txt'\n",
      "adding 'opengradient-0.1.0.dist-info/RECORD'\n",
      "removing build/bdist.macosx-11.1-arm64/wheel\n",
      "Processing ./dist/opengradient-0.1.0.tar.gz\n",
      "  Preparing metadata (setup.py) ... \u001b[?25ldone\n",
      "\u001b[?25hRequirement already satisfied: requests in /opt/miniconda3/envs/vanna-storage/lib/python3.12/site-packages (from opengradient==0.1.0) (2.32.3)\n",
      "Requirement already satisfied: onnx in /opt/miniconda3/envs/vanna-storage/lib/python3.12/site-packages (from opengradient==0.1.0) (1.16.2)\n",
      "Requirement already satisfied: numpy>=1.20 in /opt/miniconda3/envs/vanna-storage/lib/python3.12/site-packages (from onnx->opengradient==0.1.0) (2.1.1)\n",
      "Requirement already satisfied: protobuf>=3.20.2 in /opt/miniconda3/envs/vanna-storage/lib/python3.12/site-packages (from onnx->opengradient==0.1.0) (3.20.2)\n",
      "Requirement already satisfied: charset-normalizer<4,>=2 in /opt/miniconda3/envs/vanna-storage/lib/python3.12/site-packages (from requests->opengradient==0.1.0) (3.3.2)\n",
      "Requirement already satisfied: idna<4,>=2.5 in /opt/miniconda3/envs/vanna-storage/lib/python3.12/site-packages (from requests->opengradient==0.1.0) (3.8)\n",
      "Requirement already satisfied: urllib3<3,>=1.21.1 in /opt/miniconda3/envs/vanna-storage/lib/python3.12/site-packages (from requests->opengradient==0.1.0) (2.2.2)\n",
      "Requirement already satisfied: certifi>=2017.4.17 in /opt/miniconda3/envs/vanna-storage/lib/python3.12/site-packages (from requests->opengradient==0.1.0) (2024.8.30)\n",
      "Building wheels for collected packages: opengradient\n",
      "  Building wheel for opengradient (setup.py) ... \u001b[?25ldone\n",
      "\u001b[?25h  Created wheel for opengradient: filename=opengradient-0.1.0-py3-none-any.whl size=7940 sha256=a3c417bc401b6ed6a1b51bb3b38a8e8535f65852fe8cb898bb79988ac3bbdc0a\n",
      "  Stored in directory: /Users/oliver/Library/Caches/pip/wheels/e4/d1/9f/f15c8d2c4ab933e8a4816b41a8e7b4bf267b513495375169f3\n",
      "Successfully built opengradient\n",
      "Installing collected packages: opengradient\n",
      "  Attempting uninstall: opengradient\n",
      "    Found existing installation: opengradient 0.1.0\n",
      "    Can't uninstall 'opengradient'. No files were found to uninstall.\n",
      "Successfully installed opengradient-0.1.0\n"
     ]
    }
   ],
   "source": [
    "import os\n",
    "os.chdir('/Users/oliver/Desktop/code/opengradient/sdk')\n",
    "print(f\"Current working directory: {os.getcwd()}\")\n",
    "\n",
    "!python setup.py sdist bdist_wheel\n",
    "!pip install dist/opengradient-0.1.0.tar.gz"
   ]
  },
  {
   "cell_type": "code",
   "execution_count": 5,
   "metadata": {},
   "outputs": [
    {
     "name": "stdout",
     "output_type": "stream",
     "text": [
      "Step 1: Importing modules\n",
      "OpenGradient version: 0.1.0\n"
     ]
    }
   ],
   "source": [
    "import opengradient as og\n",
    "import json\n",
    "import numpy as np\n",
    "import onnx\n",
    "\n",
    "print(\"Step 1: Importing modules\")\n",
    "print(f\"OpenGradient version: {og.__version__}\")\n"
   ]
  },
  {
   "cell_type": "code",
   "execution_count": 6,
   "metadata": {},
   "outputs": [
    {
     "name": "stdout",
     "output_type": "stream",
     "text": [
      "Step 3: Initializing OpenGradient client\n",
      "OpenGradient client initialized\n"
     ]
    }
   ],
   "source": [
    "print(\"Step 3: Initializing OpenGradient client\")\n",
    "og.init(wallet_address=\"0xeB155EcC59fcc2eBdeF6dEa1711597A5dacEfB30\", private_key=\"cd09980ef6e280afc3900d2d6801f9e9c5d858a5deaeeab74a65643f5ff1a4c1\")\n",
    "print(\"OpenGradient client initialized\")"
   ]
  },
  {
   "cell_type": "code",
   "execution_count": 7,
   "metadata": {},
   "outputs": [
    {
     "name": "stderr",
     "output_type": "stream",
     "text": [
      "DEBUG:root:Attempting to load pickle file from /Users/oliver/Downloads/Miner Rating Model v1.pkl\n",
      "ERROR:root:Failed to load pickle file: Can't get attribute 'MinerRatingModel' on <module '__main__'>\n"
     ]
    },
    {
     "name": "stdout",
     "output_type": "stream",
     "text": [
      "An error occurred during conversion: Can't get attribute 'MinerRatingModel' on <module '__main__'>\n"
     ]
    }
   ],
   "source": [
    "# Path to your pickle file\n",
    "pickle_path = '/Users/oliver/Downloads/Miner Rating Model v1.pkl'\n",
    "\n",
    "# Convert pickle to ONNX\n",
    "try:\n",
    "    onnx_model = og.convert_pickle_to_onnx(pickle_path)\n",
    "    print(\"Conversion successful!\")\n",
    "\n",
    "    # Save the ONNX model\n",
    "    onnx_output_path = '/Users/oliver/Desktop/code/opengradient/sdk/converted_model.onnx'\n",
    "    onnx.save(onnx_model, onnx_output_path)\n",
    "    print(f\"ONNX model saved to: {onnx_output_path}\")\n",
    "\n",
    "    # Display some information about the converted model\n",
    "    print(\"\\nModel Information:\")\n",
    "    print(f\"IR Version: {onnx_model.ir_version}\")\n",
    "    print(f\"Opset Import: {[opset.version for opset in onnx_model.opset_import]}\")\n",
    "    print(f\"Producer Name: {onnx_model.producer_name}\")\n",
    "    print(f\"Producer Version: {onnx_model.producer_version}\")\n",
    "    \n",
    "    print(\"\\nInputs:\")\n",
    "    for input in onnx_model.graph.input:\n",
    "        print(f\"  {input.name}\")\n",
    "    \n",
    "    print(\"\\nOutputs:\")\n",
    "    for output in onnx_model.graph.output:\n",
    "        print(f\"  {output.name}\")\n",
    "\n",
    "except Exception as e:\n",
    "    print(f\"An error occurred during conversion: {str(e)}\")"
   ]
  },
  {
   "cell_type": "code",
   "execution_count": null,
   "metadata": {},
   "outputs": [],
   "source": []
  }
 ],
 "metadata": {
  "kernelspec": {
   "display_name": "vanna-storage",
   "language": "python",
   "name": "python3"
  },
  "language_info": {
   "codemirror_mode": {
    "name": "ipython",
    "version": 3
   },
   "file_extension": ".py",
   "mimetype": "text/x-python",
   "name": "python",
   "nbconvert_exporter": "python",
   "pygments_lexer": "ipython3",
   "version": "3.12.4"
  }
 },
 "nbformat": 4,
 "nbformat_minor": 2
}
