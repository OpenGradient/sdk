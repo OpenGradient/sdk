{
 "cells": [
  {
   "cell_type": "code",
   "execution_count": null,
   "metadata": {},
   "outputs": [],
   "source": [
    "!python setup.py sdist bdist_wheel\n",
    "!pip install dist/opengradient-0.1.0.tar.gz"
   ]
  },
  {
   "cell_type": "code",
   "execution_count": null,
   "metadata": {},
   "outputs": [],
   "source": [
    "import opengradient as og\n",
    "import json\n",
    "import numpy as np\n",
    "\n",
    "print(\"Step 1: Importing modules\")\n",
    "print(f\"OpenGradient version: {og.__version__}\")\n"
   ]
  },
  {
   "cell_type": "code",
   "execution_count": null,
   "metadata": {},
   "outputs": [],
   "source": [
    "print(\"Step 2: Initializing OpenGradient client\")\n",
    "og.init(private_key=\"cd09980ef6e280afc3900d2d6801f9e9c5d858a5deaeeab74a65643f5ff1a4c1\")\n",
    "print(\"OpenGradient client initialized\")"
   ]
  },
  {
   "cell_type": "code",
   "execution_count": null,
   "metadata": {},
   "outputs": [],
   "source": [
    "print(\"Step 3: Sign in flow\")\n",
    "og.sign_in_with_email_and_password(email=\"test@test.com\", password=\"Test-123\")"
   ]
  },
  {
   "cell_type": "code",
   "execution_count": null,
   "metadata": {},
   "outputs": [],
   "source": [
    "import os\n",
    "\n",
    "try:\n",
    "    print(og._client.user)\n",
    "    result = og.create_model(\"og-quant-models\", \"models from quant-models repo\")\n",
    "    print(f\"Model ID: {result['id']}\")\n",
    "except Exception as e:\n",
    "    print(f\"Upload failed: {str(e)}\")"
   ]
  },
  {
   "cell_type": "code",
   "execution_count": null,
   "metadata": {},
   "outputs": [],
   "source": [
    "try:\n",
    "    result = og.create_version(15, \"test quant-omdels v0\")\n",
    "except Exception as e:\n",
    "    print(f\"Version update failed: {str(e)}\")"
   ]
  },
  {
   "cell_type": "code",
   "execution_count": null,
   "metadata": {},
   "outputs": [],
   "source": [
    "import os\n",
    "\n",
    "model_path = \"og-test0.onnx\"\n",
    "model_id = \"11\"\n",
    "\n",
    "try:\n",
    "    # Ensure the file exists\n",
    "    if not os.path.exists(model_path):\n",
    "        raise FileNotFoundError(f\"Model file not found: {model_path}\")\n",
    "    \n",
    "    print(f\"Uploading {model_path}...\")\n",
    "    print(og._client.user)\n",
    "    result = og.upload(model_path, model_id, 7)\n",
    "    print(f\"Upload successful!\")\n",
    "    print(f\"Model CID: {result['model_cid']}\")\n",
    "except Exception as e:\n",
    "    print(f\"Upload failed: {str(e)}\")"
   ]
  },
  {
   "cell_type": "code",
   "execution_count": null,
   "metadata": {},
   "outputs": [],
   "source": [
    "print(\"\\nStep 4: Prepare model input\")\n",
    "from pprint import pprint\n",
    "with open('input.json', 'r') as file:\n",
    "    json_data = json.load(file)\n",
    "\n",
    "input_data = np.array(json_data[\"input_data\"][0])\n",
    "model_input = {}\n",
    "model_input[\"input\"] = input_data\n",
    "pprint(model_input)"
   ]
  },
  {
   "cell_type": "code",
   "execution_count": null,
   "metadata": {},
   "outputs": [],
   "source": [
    "print(\"\\nStep 5: Setting model ID and inference mode\")\n",
    "model_id = \"QmVCGYuv9dWY5hvDFYut4L2VYatU9Tp5SNW4wofDRQhDZd\"\n",
    "inference_mode = og.InferenceMode.VANILLA\n",
    "print(f\"Model ID: {model_id}\")\n",
    "print(f\"Inference mode: {inference_mode}\")"
   ]
  },
  {
   "cell_type": "code",
   "execution_count": null,
   "metadata": {},
   "outputs": [],
   "source": [
    "print(\"\\nStep 6: Running inference\")\n",
    "try:\n",
    "    tx_hash, model_output = og.infer(model_id, inference_mode, model_input)\n",
    "    print(f\"Transaction hash: {tx_hash}\")\n",
    "    print(\"Model input: \")\n",
    "    pprint(model_input)\n",
    "    print(f\"Model output: \")\n",
    "    pprint(model_output)\n",
    "except Exception as e:\n",
    "    print(f\"An error occurred during inference: {str(e)}\")\n",
    "    print(f\"Error type: {type(e)}\")\n",
    "    import traceback\n",
    "    print(\"Traceback:\")\n",
    "    print(traceback.format_exc())"
   ]
  },
  {
   "cell_type": "code",
   "execution_count": null,
   "metadata": {},
   "outputs": [],
   "source": []
  }
 ],
 "metadata": {
  "kernelspec": {
   "display_name": "vanna-storage",
   "language": "python",
   "name": "python3"
  },
  "language_info": {
   "codemirror_mode": {
    "name": "ipython",
    "version": 3
   },
   "file_extension": ".py",
   "mimetype": "text/x-python",
   "name": "python",
   "nbconvert_exporter": "python",
   "pygments_lexer": "ipython3",
   "version": "3.12.3"
  }
 },
 "nbformat": 4,
 "nbformat_minor": 2
}
