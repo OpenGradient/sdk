{
 "cells": [
  {
   "cell_type": "code",
   "execution_count": 4,
   "metadata": {},
   "outputs": [
    {
     "name": "stdout",
     "output_type": "stream",
     "text": [
      "running sdist\n",
      "running egg_info\n",
      "writing opengradient.egg-info/PKG-INFO\n",
      "writing dependency_links to opengradient.egg-info/dependency_links.txt\n",
      "writing requirements to opengradient.egg-info/requires.txt\n",
      "writing top-level names to opengradient.egg-info/top_level.txt\n",
      "reading manifest file 'opengradient.egg-info/SOURCES.txt'\n",
      "adding license file 'LICENSE'\n",
      "writing manifest file 'opengradient.egg-info/SOURCES.txt'\n",
      "running check\n",
      "creating opengradient-0.1.0\n",
      "creating opengradient-0.1.0/opengradient.egg-info\n",
      "creating opengradient-0.1.0/src\n",
      "creating opengradient-0.1.0/tests\n",
      "copying files to opengradient-0.1.0...\n",
      "copying LICENSE -> opengradient-0.1.0\n",
      "copying README.md -> opengradient-0.1.0\n",
      "copying setup.py -> opengradient-0.1.0\n",
      "copying opengradient.egg-info/PKG-INFO -> opengradient-0.1.0/opengradient.egg-info\n",
      "copying opengradient.egg-info/SOURCES.txt -> opengradient-0.1.0/opengradient.egg-info\n",
      "copying opengradient.egg-info/dependency_links.txt -> opengradient-0.1.0/opengradient.egg-info\n",
      "copying opengradient.egg-info/requires.txt -> opengradient-0.1.0/opengradient.egg-info\n",
      "copying opengradient.egg-info/top_level.txt -> opengradient-0.1.0/opengradient.egg-info\n",
      "copying src/__init__.py -> opengradient-0.1.0/src\n",
      "copying src/client.py -> opengradient-0.1.0/src\n",
      "copying src/types.py -> opengradient-0.1.0/src\n",
      "copying tests/test_api.py -> opengradient-0.1.0/tests\n",
      "copying tests/test_exceptions.py -> opengradient-0.1.0/tests\n",
      "copying tests/test_integration.py -> opengradient-0.1.0/tests\n",
      "copying opengradient.egg-info/SOURCES.txt -> opengradient-0.1.0/opengradient.egg-info\n",
      "Writing opengradient-0.1.0/setup.cfg\n",
      "Creating tar archive\n",
      "removing 'opengradient-0.1.0' (and everything under it)\n",
      "running bdist_wheel\n",
      "running build\n",
      "running build_py\n",
      "copying src/__init__.py -> build/lib/opengradient\n",
      "copying src/types.py -> build/lib/opengradient\n",
      "/opt/miniconda3/envs/vanna-storage/lib/python3.12/site-packages/setuptools/_distutils/cmd.py:66: SetuptoolsDeprecationWarning: setup.py install is deprecated.\n",
      "!!\n",
      "\n",
      "        ********************************************************************************\n",
      "        Please avoid running ``setup.py`` directly.\n",
      "        Instead, use pypa/build, pypa/installer or other\n",
      "        standards-based tools.\n",
      "\n",
      "        See https://blog.ganssle.io/articles/2021/10/setup-py-deprecated.html for details.\n",
      "        ********************************************************************************\n",
      "\n",
      "!!\n",
      "  self.initialize_options()\n",
      "installing to build/bdist.macosx-11.1-arm64/wheel\n",
      "running install\n",
      "running install_lib\n",
      "creating build/bdist.macosx-11.1-arm64/wheel\n",
      "creating build/bdist.macosx-11.1-arm64/wheel/exceptions\n",
      "copying build/lib/exceptions/__init__.py -> build/bdist.macosx-11.1-arm64/wheel/exceptions\n",
      "copying build/lib/exceptions/api_exceptions.py -> build/bdist.macosx-11.1-arm64/wheel/exceptions\n",
      "creating build/bdist.macosx-11.1-arm64/wheel/opengradient\n",
      "copying build/lib/opengradient/client.py -> build/bdist.macosx-11.1-arm64/wheel/opengradient\n",
      "copying build/lib/opengradient/__init__.py -> build/bdist.macosx-11.1-arm64/wheel/opengradient\n",
      "copying build/lib/opengradient/types.py -> build/bdist.macosx-11.1-arm64/wheel/opengradient\n",
      "running install_egg_info\n",
      "Copying opengradient.egg-info to build/bdist.macosx-11.1-arm64/wheel/opengradient-0.1.0-py3.12.egg-info\n",
      "running install_scripts\n",
      "creating build/bdist.macosx-11.1-arm64/wheel/opengradient-0.1.0.dist-info/WHEEL\n",
      "creating 'dist/opengradient-0.1.0-py3-none-any.whl' and adding 'build/bdist.macosx-11.1-arm64/wheel' to it\n",
      "adding 'exceptions/__init__.py'\n",
      "adding 'exceptions/api_exceptions.py'\n",
      "adding 'opengradient/__init__.py'\n",
      "adding 'opengradient/client.py'\n",
      "adding 'opengradient/types.py'\n",
      "adding 'opengradient-0.1.0.dist-info/LICENSE'\n",
      "adding 'opengradient-0.1.0.dist-info/METADATA'\n",
      "adding 'opengradient-0.1.0.dist-info/WHEEL'\n",
      "adding 'opengradient-0.1.0.dist-info/top_level.txt'\n",
      "adding 'opengradient-0.1.0.dist-info/RECORD'\n",
      "removing build/bdist.macosx-11.1-arm64/wheel\n",
      "Processing ./dist/opengradient-0.1.0.tar.gz\n",
      "  Preparing metadata (setup.py) ... \u001b[?25ldone\n",
      "\u001b[?25hRequirement already satisfied: requests in /opt/miniconda3/envs/vanna-storage/lib/python3.12/site-packages (from opengradient==0.1.0) (2.32.3)\n",
      "Requirement already satisfied: onnx in /opt/miniconda3/envs/vanna-storage/lib/python3.12/site-packages (from opengradient==0.1.0) (1.16.2)\n",
      "Requirement already satisfied: numpy>=1.20 in /opt/miniconda3/envs/vanna-storage/lib/python3.12/site-packages (from onnx->opengradient==0.1.0) (2.1.1)\n",
      "Requirement already satisfied: protobuf>=3.20.2 in /opt/miniconda3/envs/vanna-storage/lib/python3.12/site-packages (from onnx->opengradient==0.1.0) (3.20.2)\n",
      "Requirement already satisfied: charset-normalizer<4,>=2 in /opt/miniconda3/envs/vanna-storage/lib/python3.12/site-packages (from requests->opengradient==0.1.0) (3.3.2)\n",
      "Requirement already satisfied: idna<4,>=2.5 in /opt/miniconda3/envs/vanna-storage/lib/python3.12/site-packages (from requests->opengradient==0.1.0) (3.8)\n",
      "Requirement already satisfied: urllib3<3,>=1.21.1 in /opt/miniconda3/envs/vanna-storage/lib/python3.12/site-packages (from requests->opengradient==0.1.0) (2.2.2)\n",
      "Requirement already satisfied: certifi>=2017.4.17 in /opt/miniconda3/envs/vanna-storage/lib/python3.12/site-packages (from requests->opengradient==0.1.0) (2024.8.30)\n",
      "Building wheels for collected packages: opengradient\n",
      "  Building wheel for opengradient (setup.py) ... \u001b[?25ldone\n",
      "\u001b[?25h  Created wheel for opengradient: filename=opengradient-0.1.0-py3-none-any.whl size=7327 sha256=9df0ea8f9a28615605d72972107d2a856813165bb08ea1e1ee9a05aa0d047b56\n",
      "  Stored in directory: /Users/oliver/Library/Caches/pip/wheels/e4/d1/9f/f15c8d2c4ab933e8a4816b41a8e7b4bf267b513495375169f3\n",
      "Successfully built opengradient\n",
      "Installing collected packages: opengradient\n",
      "  Attempting uninstall: opengradient\n",
      "    Found existing installation: opengradient 0.1.0\n",
      "    Can't uninstall 'opengradient'. No files were found to uninstall.\n",
      "Successfully installed opengradient-0.1.0\n"
     ]
    }
   ],
   "source": [
    "!python setup.py sdist bdist_wheel\n",
    "!pip install dist/opengradient-0.1.0.tar.gz"
   ]
  },
  {
   "cell_type": "code",
   "execution_count": 1,
   "metadata": {},
   "outputs": [
    {
     "name": "stdout",
     "output_type": "stream",
     "text": [
      "Private Key: 6d8c77546f17824aab32fc94e5cedc0a444f093fc325f2624b67b673109999a6\n",
      "Ethereum Address: 0xe657187550232E33493e4808376876E36a2A2787\n",
      "Step 1: Importing modules\n",
      "OpenGradient version: 0.1.0\n"
     ]
    }
   ],
   "source": [
    "import opengradient as og\n",
    "import json\n",
    "import numpy as np\n",
    "\n",
    "print(\"Step 1: Importing modules\")\n",
    "print(f\"OpenGradient version: {og.__version__}\")\n"
   ]
  },
  {
   "cell_type": "code",
   "execution_count": 2,
   "metadata": {},
   "outputs": [
    {
     "name": "stdout",
     "output_type": "stream",
     "text": [
      "Step 3: Initializing OpenGradient client\n",
      "OpenGradient client initialized\n"
     ]
    }
   ],
   "source": [
    "print(\"Step 3: Initializing OpenGradient client\")\n",
    "og.init(wallet_address=\"0xeB155EcC59fcc2eBdeF6dEa1711597A5dacEfB30\", private_key=\"cd09980ef6e280afc3900d2d6801f9e9c5d858a5deaeeab74a65643f5ff1a4c1\")\n",
    "print(\"OpenGradient client initialized\")"
   ]
  },
  {
   "cell_type": "code",
   "execution_count": 3,
   "metadata": {},
   "outputs": [
    {
     "name": "stdout",
     "output_type": "stream",
     "text": [
      "\n",
      "Step 4: Preparing model input\n",
      "ModelInput created successfully: ModelInput(numbers=[NumberTensor(name='num_input1', values=[Number(value='2', decimals='0'), Number(value='3', decimals='0'), Number(value='4', decimals='0')]), NumberTensor(name='num_input2', values=[Number(value='10', decimals='0')])], strings=[StringTensor(name='str_input1', values=['hello', 'ONNX']), StringTensor(name='str_input2', values=[' world'])])\n"
     ]
    }
   ],
   "source": [
    "print(\"\\nStep 4: Preparing model input\")\n",
    "try:\n",
    "    model_input = og.ModelInput(\n",
    "        numbers=[\n",
    "            og.NumberTensor(\n",
    "                name=\"num_input1\", \n",
    "                values=[\n",
    "                    og.Number(value=2, decimals=0),\n",
    "                    og.Number(value=3, decimals=0),\n",
    "                    og.Number(value=4, decimals=0)\n",
    "                ]),\n",
    "            og.NumberTensor(\n",
    "                name=\"num_input2\", \n",
    "                values=[\n",
    "                    og.Number(value=10, decimals=0)\n",
    "                ])\n",
    "            ],\n",
    "        strings=[\n",
    "            og.StringTensor(\n",
    "                name=\"str_input1\",\n",
    "                values=[\n",
    "                    \"hello\", \"ONNX\",\n",
    "                ]),\n",
    "            og.StringTensor(\n",
    "                name=\"str_input2\",\n",
    "                values=[\n",
    "                    \" world\",\n",
    "                ])\n",
    "        ]\n",
    "    )\n",
    "    print(f\"ModelInput created successfully: {model_input}\")\n",
    "except Exception as e:\n",
    "    print(f\"Error creating ModelInput: {str(e)}\")\n",
    "    raise"
   ]
  },
  {
   "cell_type": "code",
   "execution_count": 4,
   "metadata": {},
   "outputs": [
    {
     "name": "stdout",
     "output_type": "stream",
     "text": [
      "\n",
      "Step 5: Setting model ID and inference mode\n",
      "Model ID: QmbUqS93oc4JTLMHwpVxsE39mhNxy6hpf6Py3r9oANr8aZ\n",
      "Inference mode: 0\n"
     ]
    }
   ],
   "source": [
    "print(\"\\nStep 5: Setting model ID and inference mode\")\n",
    "model_id = \"QmbUqS93oc4JTLMHwpVxsE39mhNxy6hpf6Py3r9oANr8aZ\"\n",
    "inference_mode = og.InferenceMode.VANILLA\n",
    "print(f\"Model ID: {model_id}\")\n",
    "print(f\"Inference mode: {inference_mode}\")"
   ]
  },
  {
   "cell_type": "code",
   "execution_count": 5,
   "metadata": {},
   "outputs": [
    {
     "name": "stderr",
     "output_type": "stream",
     "text": [
      "DEBUG:root:Entering infer method\n",
      "DEBUG:web3.providers.HTTPProvider:Making request HTTP. URI: http://18.218.115.248:8545, Method: web3_clientVersion\n",
      "DEBUG:web3._utils.http_session_manager.HTTPSessionManager:Session cached: http://18.218.115.248:8545, <requests.sessions.Session object at 0x1211c0200>\n",
      "DEBUG:urllib3.connectionpool:Starting new HTTP connection (1): 18.218.115.248:8545\n",
      "DEBUG:urllib3.connectionpool:http://18.218.115.248:8545 \"POST / HTTP/11\" 200 43\n",
      "DEBUG:web3.providers.HTTPProvider:Getting response HTTP. URI: http://18.218.115.248:8545, Method: web3_clientVersion, Response: {'jsonrpc': '2.0', 'id': 0, 'result': '0.38.5'}\n",
      "DEBUG:root:Web3 initialized. Connected: True\n",
      "DEBUG:root:Creating contract instance. Address: 0xD06aBA37d08Bd2307728DcedBEf0aa4522B22ce7\n",
      "DEBUG:root:Contract instance created successfully\n",
      "DEBUG:root:Model ID: QmbUqS93oc4JTLMHwpVxsE39mhNxy6hpf6Py3r9oANr8aZ\n",
      "DEBUG:root:Inference Mode: 0\n",
      "DEBUG:root:Model Input: ModelInput(numbers=[NumberTensor(name='num_input1', values=[Number(value='2', decimals='0'), Number(value='3', decimals='0'), Number(value='4', decimals='0')]), NumberTensor(name='num_input2', values=[Number(value='10', decimals='0')])], strings=[StringTensor(name='str_input1', values=['hello', 'ONNX']), StringTensor(name='str_input2', values=[' world'])])\n",
      "DEBUG:root:Prepared model input struct: ([('num_input1', [('2', '0'), ('3', '0'), ('4', '0')]), ('num_input2', [('10', '0')])], [('str_input1', ['hello', 'ONNX']), ('str_input2', [' world'])])\n",
      "DEBUG:root:Preparing run function\n",
      "ERROR:root:Error in infer method: \n",
      "Could not identify the intended function with name `run`, positional arguments with type(s) `(str,int,((str,((str,str),(str,str),(str,str))),(str,((str,str)))),((str,(str,str)),(str,(str))))` and keyword arguments with type(s) `{}`.\n",
      "Found 1 function(s) with the name `run`: ['run(string,uint8,((string,(int128,int128)[])[],(string,string[])[]))']\n",
      "Function invocation failed due to no matching argument types.\n",
      "Traceback (most recent call last):\n",
      "  File \"/Users/oliver/Desktop/code/opengradient/sdk/src/client.py\", line 125, in infer\n",
      "    run_function = contract.functions.run(\n",
      "                   ^^^^^^^^^^^^^^^^^^^^^^^\n",
      "  File \"/opt/miniconda3/envs/vanna-storage/lib/python3.12/site-packages/web3/contract/contract.py\", line 264, in __call__\n",
      "    clone._set_function_info()\n",
      "  File \"/opt/miniconda3/envs/vanna-storage/lib/python3.12/site-packages/web3/contract/base_contract.py\", line 497, in _set_function_info\n",
      "    get_abi_element(\n",
      "  File \"/opt/miniconda3/envs/vanna-storage/lib/python3.12/site-packages/web3/utils/abi.py\", line 407, in get_abi_element\n",
      "    raise MismatchedABI(error_diagnosis)\n",
      "web3.exceptions.MismatchedABI: \n",
      "Could not identify the intended function with name `run`, positional arguments with type(s) `(str,int,((str,((str,str),(str,str),(str,str))),(str,((str,str)))),((str,(str,str)),(str,(str))))` and keyword arguments with type(s) `{}`.\n",
      "Found 1 function(s) with the name `run`: ['run(string,uint8,((string,(int128,int128)[])[],(string,string[])[]))']\n",
      "Function invocation failed due to no matching argument types.\n"
     ]
    },
    {
     "name": "stdout",
     "output_type": "stream",
     "text": [
      "\n",
      "Step 6: Running inference\n",
      "An error occurred during inference: Inference failed: \n",
      "Could not identify the intended function with name `run`, positional arguments with type(s) `(str,int,((str,((str,str),(str,str),(str,str))),(str,((str,str)))),((str,(str,str)),(str,(str))))` and keyword arguments with type(s) `{}`.\n",
      "Found 1 function(s) with the name `run`: ['run(string,uint8,((string,(int128,int128)[])[],(string,string[])[]))']\n",
      "Function invocation failed due to no matching argument types. (Status code: None)\n",
      "Error type: <class 'src.exceptions.api_exceptions.InferenceError'>\n",
      "Traceback:\n",
      "Traceback (most recent call last):\n",
      "  File \"/Users/oliver/Desktop/code/opengradient/sdk/src/client.py\", line 125, in infer\n",
      "    run_function = contract.functions.run(\n",
      "                   ^^^^^^^^^^^^^^^^^^^^^^^\n",
      "  File \"/opt/miniconda3/envs/vanna-storage/lib/python3.12/site-packages/web3/contract/contract.py\", line 264, in __call__\n",
      "    clone._set_function_info()\n",
      "  File \"/opt/miniconda3/envs/vanna-storage/lib/python3.12/site-packages/web3/contract/base_contract.py\", line 497, in _set_function_info\n",
      "    get_abi_element(\n",
      "  File \"/opt/miniconda3/envs/vanna-storage/lib/python3.12/site-packages/web3/utils/abi.py\", line 407, in get_abi_element\n",
      "    raise MismatchedABI(error_diagnosis)\n",
      "web3.exceptions.MismatchedABI: \n",
      "Could not identify the intended function with name `run`, positional arguments with type(s) `(str,int,((str,((str,str),(str,str),(str,str))),(str,((str,str)))),((str,(str,str)),(str,(str))))` and keyword arguments with type(s) `{}`.\n",
      "Found 1 function(s) with the name `run`: ['run(string,uint8,((string,(int128,int128)[])[],(string,string[])[]))']\n",
      "Function invocation failed due to no matching argument types.\n",
      "\n",
      "During handling of the above exception, another exception occurred:\n",
      "\n",
      "Traceback (most recent call last):\n",
      "  File \"/var/folders/n0/8l2p0mjx6b74dh_nd5rp9vs00000gn/T/ipykernel_67570/2176707631.py\", line 3, in <module>\n",
      "    tx_hash, model_output = og.infer(model_id, inference_mode, model_input)\n",
      "                            ^^^^^^^^^^^^^^^^^^^^^^^^^^^^^^^^^^^^^^^^^^^^^^^\n",
      "  File \"/opt/miniconda3/envs/vanna-storage/lib/python3.12/site-packages/opengradient/__init__.py\", line 21, in infer\n",
      "    return _client.infer(model_id, inference_mode, model_input)\n",
      "           ^^^^^^^^^^^^^^^^^^^^^^^^^^^^^^^^^^^^^^^^^^^^^^^^^^^^\n",
      "  File \"/Users/oliver/Desktop/code/opengradient/sdk/src/client.py\", line 202, in infer\n",
      "    raise InferenceError(f\"Inference failed: {str(e)}\")\n",
      "src.exceptions.api_exceptions.InferenceError: Inference failed: \n",
      "Could not identify the intended function with name `run`, positional arguments with type(s) `(str,int,((str,((str,str),(str,str),(str,str))),(str,((str,str)))),((str,(str,str)),(str,(str))))` and keyword arguments with type(s) `{}`.\n",
      "Found 1 function(s) with the name `run`: ['run(string,uint8,((string,(int128,int128)[])[],(string,string[])[]))']\n",
      "Function invocation failed due to no matching argument types. (Status code: None)\n",
      "\n"
     ]
    }
   ],
   "source": [
    "print(\"\\nStep 6: Running inference\")\n",
    "try:\n",
    "    tx_hash, model_output = og.infer(model_id, inference_mode, model_input)\n",
    "    print(f\"Transaction hash: {tx_hash}\")\n",
    "    print(f\"Model output: {model_output}\")\n",
    "except Exception as e:\n",
    "    print(f\"An error occurred during inference: {str(e)}\")\n",
    "    print(f\"Error type: {type(e)}\")\n",
    "    import traceback\n",
    "    print(\"Traceback:\")\n",
    "    print(traceback.format_exc())"
   ]
  },
  {
   "cell_type": "code",
   "execution_count": null,
   "metadata": {},
   "outputs": [],
   "source": []
  }
 ],
 "metadata": {
  "kernelspec": {
   "display_name": "vanna-storage",
   "language": "python",
   "name": "python3"
  },
  "language_info": {
   "codemirror_mode": {
    "name": "ipython",
    "version": 3
   },
   "file_extension": ".py",
   "mimetype": "text/x-python",
   "name": "python",
   "nbconvert_exporter": "python",
   "pygments_lexer": "ipython3",
   "version": "3.12.4"
  }
 },
 "nbformat": 4,
 "nbformat_minor": 2
}
