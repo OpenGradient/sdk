{
 "cells": [
  {
   "cell_type": "code",
   "execution_count": 1,
   "metadata": {},
   "outputs": [
    {
     "name": "stdout",
     "output_type": "stream",
     "text": [
      "running sdist\n",
      "running egg_info\n",
      "writing opengradient.egg-info/PKG-INFO\n",
      "writing dependency_links to opengradient.egg-info/dependency_links.txt\n",
      "writing requirements to opengradient.egg-info/requires.txt\n",
      "writing top-level names to opengradient.egg-info/top_level.txt\n",
      "reading manifest file 'opengradient.egg-info/SOURCES.txt'\n",
      "adding license file 'LICENSE'\n",
      "writing manifest file 'opengradient.egg-info/SOURCES.txt'\n",
      "running check\n",
      "creating opengradient-0.1.0\n",
      "creating opengradient-0.1.0/opengradient.egg-info\n",
      "creating opengradient-0.1.0/src\n",
      "creating opengradient-0.1.0/tests\n",
      "copying files to opengradient-0.1.0...\n",
      "copying LICENSE -> opengradient-0.1.0\n",
      "copying README.md -> opengradient-0.1.0\n",
      "copying setup.py -> opengradient-0.1.0\n",
      "copying opengradient.egg-info/PKG-INFO -> opengradient-0.1.0/opengradient.egg-info\n",
      "copying opengradient.egg-info/SOURCES.txt -> opengradient-0.1.0/opengradient.egg-info\n",
      "copying opengradient.egg-info/dependency_links.txt -> opengradient-0.1.0/opengradient.egg-info\n",
      "copying opengradient.egg-info/requires.txt -> opengradient-0.1.0/opengradient.egg-info\n",
      "copying opengradient.egg-info/top_level.txt -> opengradient-0.1.0/opengradient.egg-info\n",
      "copying src/__init__.py -> opengradient-0.1.0/src\n",
      "copying src/client.py -> opengradient-0.1.0/src\n",
      "copying src/types.py -> opengradient-0.1.0/src\n",
      "copying tests/test_api.py -> opengradient-0.1.0/tests\n",
      "copying tests/test_exceptions.py -> opengradient-0.1.0/tests\n",
      "copying tests/test_integration.py -> opengradient-0.1.0/tests\n",
      "copying opengradient.egg-info/SOURCES.txt -> opengradient-0.1.0/opengradient.egg-info\n",
      "Writing opengradient-0.1.0/setup.cfg\n",
      "Creating tar archive\n",
      "removing 'opengradient-0.1.0' (and everything under it)\n",
      "running bdist_wheel\n",
      "running build\n",
      "running build_py\n",
      "copying src/client.py -> build/lib/opengradient\n",
      "copying src/__init__.py -> build/lib/opengradient\n",
      "copying src/types.py -> build/lib/opengradient\n",
      "/opt/miniconda3/envs/vanna-storage/lib/python3.12/site-packages/setuptools/_distutils/cmd.py:66: SetuptoolsDeprecationWarning: setup.py install is deprecated.\n",
      "!!\n",
      "\n",
      "        ********************************************************************************\n",
      "        Please avoid running ``setup.py`` directly.\n",
      "        Instead, use pypa/build, pypa/installer or other\n",
      "        standards-based tools.\n",
      "\n",
      "        See https://blog.ganssle.io/articles/2021/10/setup-py-deprecated.html for details.\n",
      "        ********************************************************************************\n",
      "\n",
      "!!\n",
      "  self.initialize_options()\n",
      "installing to build/bdist.macosx-11.1-arm64/wheel\n",
      "running install\n",
      "running install_lib\n",
      "creating build/bdist.macosx-11.1-arm64/wheel\n",
      "creating build/bdist.macosx-11.1-arm64/wheel/exceptions\n",
      "copying build/lib/exceptions/__init__.py -> build/bdist.macosx-11.1-arm64/wheel/exceptions\n",
      "copying build/lib/exceptions/api_exceptions.py -> build/bdist.macosx-11.1-arm64/wheel/exceptions\n",
      "creating build/bdist.macosx-11.1-arm64/wheel/opengradient\n",
      "copying build/lib/opengradient/client.py -> build/bdist.macosx-11.1-arm64/wheel/opengradient\n",
      "copying build/lib/opengradient/__init__.py -> build/bdist.macosx-11.1-arm64/wheel/opengradient\n",
      "copying build/lib/opengradient/types.py -> build/bdist.macosx-11.1-arm64/wheel/opengradient\n",
      "running install_egg_info\n",
      "Copying opengradient.egg-info to build/bdist.macosx-11.1-arm64/wheel/opengradient-0.1.0-py3.12.egg-info\n",
      "running install_scripts\n",
      "creating build/bdist.macosx-11.1-arm64/wheel/opengradient-0.1.0.dist-info/WHEEL\n",
      "creating 'dist/opengradient-0.1.0-py3-none-any.whl' and adding 'build/bdist.macosx-11.1-arm64/wheel' to it\n",
      "adding 'exceptions/__init__.py'\n",
      "adding 'exceptions/api_exceptions.py'\n",
      "adding 'opengradient/__init__.py'\n",
      "adding 'opengradient/client.py'\n",
      "adding 'opengradient/types.py'\n",
      "adding 'opengradient-0.1.0.dist-info/LICENSE'\n",
      "adding 'opengradient-0.1.0.dist-info/METADATA'\n",
      "adding 'opengradient-0.1.0.dist-info/WHEEL'\n",
      "adding 'opengradient-0.1.0.dist-info/top_level.txt'\n",
      "adding 'opengradient-0.1.0.dist-info/RECORD'\n",
      "removing build/bdist.macosx-11.1-arm64/wheel\n",
      "Processing ./dist/opengradient-0.1.0.tar.gz\n",
      "  Preparing metadata (setup.py) ... \u001b[?25ldone\n",
      "\u001b[?25hRequirement already satisfied: requests in /opt/miniconda3/envs/vanna-storage/lib/python3.12/site-packages (from opengradient==0.1.0) (2.32.3)\n",
      "Requirement already satisfied: onnx in /opt/miniconda3/envs/vanna-storage/lib/python3.12/site-packages (from opengradient==0.1.0) (1.16.2)\n",
      "Requirement already satisfied: numpy>=1.20 in /opt/miniconda3/envs/vanna-storage/lib/python3.12/site-packages (from onnx->opengradient==0.1.0) (2.1.1)\n",
      "Requirement already satisfied: protobuf>=3.20.2 in /opt/miniconda3/envs/vanna-storage/lib/python3.12/site-packages (from onnx->opengradient==0.1.0) (3.20.2)\n",
      "Requirement already satisfied: charset-normalizer<4,>=2 in /opt/miniconda3/envs/vanna-storage/lib/python3.12/site-packages (from requests->opengradient==0.1.0) (3.3.2)\n",
      "Requirement already satisfied: idna<4,>=2.5 in /opt/miniconda3/envs/vanna-storage/lib/python3.12/site-packages (from requests->opengradient==0.1.0) (3.8)\n",
      "Requirement already satisfied: urllib3<3,>=1.21.1 in /opt/miniconda3/envs/vanna-storage/lib/python3.12/site-packages (from requests->opengradient==0.1.0) (2.2.2)\n",
      "Requirement already satisfied: certifi>=2017.4.17 in /opt/miniconda3/envs/vanna-storage/lib/python3.12/site-packages (from requests->opengradient==0.1.0) (2024.8.30)\n",
      "Building wheels for collected packages: opengradient\n",
      "  Building wheel for opengradient (setup.py) ... \u001b[?25ldone\n",
      "\u001b[?25h  Created wheel for opengradient: filename=opengradient-0.1.0-py3-none-any.whl size=7319 sha256=19281f94f6a87a1785adad9fd5a3e1dd5d637c7a6f6ac15b3da405d02a259166\n",
      "  Stored in directory: /Users/oliver/Library/Caches/pip/wheels/e4/d1/9f/f15c8d2c4ab933e8a4816b41a8e7b4bf267b513495375169f3\n",
      "Successfully built opengradient\n",
      "Installing collected packages: opengradient\n",
      "  Attempting uninstall: opengradient\n",
      "    Found existing installation: opengradient 0.1.0\n",
      "    Can't uninstall 'opengradient'. No files were found to uninstall.\n",
      "Successfully installed opengradient-0.1.0\n"
     ]
    }
   ],
   "source": [
    "!python setup.py sdist bdist_wheel\n",
    "!pip install dist/opengradient-0.1.0.tar.gz"
   ]
  },
  {
   "cell_type": "code",
   "execution_count": 4,
   "metadata": {},
   "outputs": [
    {
     "name": "stdout",
     "output_type": "stream",
     "text": [
      "Step 1: Importing modules\n",
      "OpenGradient version: 0.1.0\n"
     ]
    }
   ],
   "source": [
    "import opengradient as og\n",
    "import json\n",
    "import numpy as np\n",
    "\n",
    "print(\"Step 1: Importing modules\")\n",
    "print(f\"OpenGradient version: {og.__version__}\")\n"
   ]
  },
  {
   "cell_type": "code",
   "execution_count": 3,
   "metadata": {},
   "outputs": [
    {
     "name": "stdout",
     "output_type": "stream",
     "text": [
      "Step 3: Initializing OpenGradient client\n",
      "OpenGradient client initialized\n"
     ]
    }
   ],
   "source": [
    "print(\"Step 3: Initializing OpenGradient client\")\n",
    "og.init(wallet_address=\"0xeB155EcC59fcc2eBdeF6dEa1711597A5dacEfB30\", private_key=\"cd09980ef6e280afc3900d2d6801f9e9c5d858a5deaeeab74a65643f5ff1a4c1\")\n",
    "print(\"OpenGradient client initialized\")"
   ]
  },
  {
   "cell_type": "code",
   "execution_count": 5,
   "metadata": {},
   "outputs": [
    {
     "name": "stdout",
     "output_type": "stream",
     "text": [
      "\n",
      "Step 4: Preparing model input\n",
      "ModelInput created successfully: ModelInput(numbers=[NumberTensor(name='input', values=[Number(value=9263666636666666, decimals=47), Number(value=4486390083646311, decimals=16)])], strings=[])\n"
     ]
    }
   ],
   "source": [
    "print(\"\\nStep 4: Preparing model input\")\n",
    "try:\n",
    "    input_values = input_data['input_data'][0]\n",
    "    reshaped_input = np.array(input_values).reshape(1, 3, 2, 2)\n",
    "    model_input = og.ModelInput(\n",
    "        numbers=[\n",
    "            og.NumberTensor(\n",
    "                name=\"input\",\n",
    "                values=[\n",
    "                    og.Number(value=9263666636666666, decimals=47),\n",
    "                    og.Number(value=4486390083646311, decimals=16)\n",
    "                ]\n",
    "            )\n",
    "        ],\n",
    "        strings=[]\n",
    "    )\n",
    "    print(f\"ModelInput created successfully: {model_input}\")\n",
    "except Exception as e:\n",
    "    print(f\"Error creating ModelInput: {str(e)}\")\n",
    "    raise"
   ]
  },
  {
   "cell_type": "code",
   "execution_count": 6,
   "metadata": {},
   "outputs": [
    {
     "name": "stdout",
     "output_type": "stream",
     "text": [
      "\n",
      "Step 5: Setting model ID and inference mode\n",
      "Model ID: QmbbzDwqSxZSgkz1EbsNHp2mb67rYeUYHYWJ4wECE24S7A\n",
      "Inference mode: 0\n"
     ]
    }
   ],
   "source": [
    "print(\"\\nStep 5: Setting model ID and inference mode\")\n",
    "model_id = \"QmbbzDwqSxZSgkz1EbsNHp2mb67rYeUYHYWJ4wECE24S7A\"\n",
    "inference_mode = og.InferenceMode.VANILLA\n",
    "print(f\"Model ID: {model_id}\")\n",
    "print(f\"Inference mode: {inference_mode}\")"
   ]
  },
  {
   "cell_type": "code",
   "execution_count": 7,
   "metadata": {},
   "outputs": [
    {
     "name": "stderr",
     "output_type": "stream",
     "text": [
      "DEBUG:root:Entering infer method\n",
      "DEBUG:web3.providers.HTTPProvider:Making request HTTP. URI: http://18.218.115.248:8545, Method: web3_clientVersion\n",
      "DEBUG:web3._utils.http_session_manager.HTTPSessionManager:Session cached: http://18.218.115.248:8545, <requests.sessions.Session object at 0x114a51040>\n",
      "DEBUG:urllib3.connectionpool:Starting new HTTP connection (1): 18.218.115.248:8545\n",
      "DEBUG:urllib3.connectionpool:http://18.218.115.248:8545 \"POST / HTTP/11\" 200 43\n",
      "DEBUG:web3.providers.HTTPProvider:Getting response HTTP. URI: http://18.218.115.248:8545, Method: web3_clientVersion, Response: {'jsonrpc': '2.0', 'id': 0, 'result': '0.38.5'}\n",
      "DEBUG:root:Web3 initialized. Connected: True\n",
      "DEBUG:root:Creating contract instance. Address: 0xD06aBA37d08Bd2307728DcedBEf0aa4522B22ce7\n",
      "DEBUG:root:Contract instance created successfully\n",
      "DEBUG:root:Model ID: QmbbzDwqSxZSgkz1EbsNHp2mb67rYeUYHYWJ4wECE24S7A\n",
      "DEBUG:root:Inference Mode: 0\n",
      "DEBUG:root:Model Input: ModelInput(numbers=[NumberTensor(name='input', values=[Number(value=9263666636666666, decimals=47), Number(value=4486390083646311, decimals=16)])], strings=[])\n",
      "DEBUG:root:Prepared model input struct: ([('input', [(9263666636666666, 47), (4486390083646311, 16)])], [])\n",
      "DEBUG:root:Preparing run function\n",
      "DEBUG:root:Run function prepared successfully\n",
      "DEBUG:web3.manager.RequestManager:Making request. Method: eth_getTransactionCount\n",
      "DEBUG:web3.providers.HTTPProvider:Making request HTTP. URI: http://18.218.115.248:8545, Method: eth_getTransactionCount\n",
      "DEBUG:urllib3.connectionpool:http://18.218.115.248:8545 \"POST / HTTP/11\" 200 41\n",
      "DEBUG:web3.providers.HTTPProvider:Getting response HTTP. URI: http://18.218.115.248:8545, Method: eth_getTransactionCount, Response: {'jsonrpc': '2.0', 'id': 1, 'result': '0x28'}\n",
      "DEBUG:root:Nonce: 40\n",
      "DEBUG:web3.manager.RequestManager:Making request. Method: eth_estimateGas\n",
      "DEBUG:web3.manager.RequestManager:Making request. Method: eth_chainId\n",
      "DEBUG:web3.providers.HTTPProvider:Making request HTTP. URI: http://18.218.115.248:8545, Method: eth_chainId\n"
     ]
    },
    {
     "name": "stdout",
     "output_type": "stream",
     "text": [
      "\n",
      "Step 6: Running inference\n"
     ]
    },
    {
     "name": "stderr",
     "output_type": "stream",
     "text": [
      "DEBUG:urllib3.connectionpool:http://18.218.115.248:8545 \"POST / HTTP/11\" 200 52\n",
      "DEBUG:web3.providers.HTTPProvider:Getting response HTTP. URI: http://18.218.115.248:8545, Method: eth_chainId, Response: {'jsonrpc': '2.0', 'id': 2, 'result': '0xa8d75828599ec'}\n",
      "DEBUG:web3.providers.HTTPProvider:Making request HTTP. URI: http://18.218.115.248:8545, Method: eth_estimateGas\n",
      "DEBUG:urllib3.connectionpool:http://18.218.115.248:8545 \"POST / HTTP/11\" 200 45\n",
      "DEBUG:web3.providers.HTTPProvider:Getting response HTTP. URI: http://18.218.115.248:8545, Method: eth_estimateGas, Response: {'jsonrpc': '2.0', 'id': 3, 'result': '0x9e7185'}\n",
      "DEBUG:web3.manager.RequestManager:Making request. Method: eth_chainId\n",
      "DEBUG:web3.providers.HTTPProvider:Making request HTTP. URI: http://18.218.115.248:8545, Method: eth_chainId\n",
      "DEBUG:urllib3.connectionpool:http://18.218.115.248:8545 \"POST / HTTP/11\" 200 52\n",
      "DEBUG:web3.providers.HTTPProvider:Getting response HTTP. URI: http://18.218.115.248:8545, Method: eth_chainId, Response: {'jsonrpc': '2.0', 'id': 4, 'result': '0xa8d75828599ec'}\n",
      "DEBUG:root:Estimated gas: 10383749\n",
      "DEBUG:root:Gas limit set to: 12460498\n",
      "DEBUG:web3.manager.RequestManager:Making request. Method: eth_gasPrice\n",
      "DEBUG:web3.providers.HTTPProvider:Making request HTTP. URI: http://18.218.115.248:8545, Method: eth_gasPrice\n",
      "DEBUG:urllib3.connectionpool:http://18.218.115.248:8545 \"POST / HTTP/11\" 200 40\n",
      "DEBUG:web3.providers.HTTPProvider:Getting response HTTP. URI: http://18.218.115.248:8545, Method: eth_gasPrice, Response: {'jsonrpc': '2.0', 'id': 5, 'result': '0x0'}\n",
      "DEBUG:web3.manager.RequestManager:Making request. Method: eth_chainId\n",
      "DEBUG:web3.providers.HTTPProvider:Making request HTTP. URI: http://18.218.115.248:8545, Method: eth_chainId\n",
      "DEBUG:urllib3.connectionpool:http://18.218.115.248:8545 \"POST / HTTP/11\" 200 52\n",
      "DEBUG:web3.providers.HTTPProvider:Getting response HTTP. URI: http://18.218.115.248:8545, Method: eth_chainId, Response: {'jsonrpc': '2.0', 'id': 6, 'result': '0xa8d75828599ec'}\n",
      "DEBUG:root:Transaction built: {'value': 0, 'chainId': 2970285607590380, 'from': '0xeB155EcC59fcc2eBdeF6dEa1711597A5dacEfB30', 'nonce': 40, 'gas': 12460498, 'gasPrice': 0, 'to': '0xD06aBA37d08Bd2307728DcedBEf0aa4522B22ce7', 'data': '0x17f7542e0000000000000000000000000000000000000000000000000000000000000060000000000000000000000000000000000000000000000000000000000000000000000000000000000000000000000000000000000000000000000000000000c0000000000000000000000000000000000000000000000000000000000000002e516d62627a44777153785a53676b7a314562734e4870326d62363772596555594859574a34774543453234533741000000000000000000000000000000000000000000000000000000000000000000000000000000000000000000000000004000000000000000000000000000000000000000000000000000000000000001a000000000000000000000000000000000000000000000000000000000000000010000000000000000000000000000000000000000000000000000000000000020000000000000000000000000000000000000000000000000000000000000004000000000000000000000000000000000000000000000000000000000000000800000000000000000000000000000000000000000000000000000000000000005696e70757400000000000000000000000000000000000000000000000000000000000000000000000000000000000000000000000000000000000000000000020000000000000000000000000000000000000000000000000020e9417732372a000000000000000000000000000000000000000000000000000000000000002f000000000000000000000000000000000000000000000000000ff0591742736700000000000000000000000000000000000000000000000000000000000000100000000000000000000000000000000000000000000000000000000000000000'}\n",
      "DEBUG:root:Transaction signed successfully\n",
      "DEBUG:web3.manager.RequestManager:Making request. Method: eth_sendRawTransaction\n",
      "DEBUG:web3.providers.HTTPProvider:Making request HTTP. URI: http://18.218.115.248:8545, Method: eth_sendRawTransaction\n",
      "DEBUG:urllib3.connectionpool:http://18.218.115.248:8545 \"POST / HTTP/11\" 200 103\n",
      "DEBUG:web3.providers.HTTPProvider:Getting response HTTP. URI: http://18.218.115.248:8545, Method: eth_sendRawTransaction, Response: {'jsonrpc': '2.0', 'id': 7, 'result': '0x81093caa986ac690bd3585667be014d8f1a90de4a91e81807edf3e5e34133fdd'}\n",
      "DEBUG:root:Transaction sent. Hash: 81093caa986ac690bd3585667be014d8f1a90de4a91e81807edf3e5e34133fdd\n",
      "DEBUG:web3.manager.RequestManager:Making request. Method: eth_getTransactionReceipt\n",
      "DEBUG:web3.providers.HTTPProvider:Making request HTTP. URI: http://18.218.115.248:8545, Method: eth_getTransactionReceipt\n",
      "DEBUG:urllib3.connectionpool:http://18.218.115.248:8545 \"POST / HTTP/11\" 200 39\n",
      "DEBUG:web3.providers.HTTPProvider:Getting response HTTP. URI: http://18.218.115.248:8545, Method: eth_getTransactionReceipt, Response: {'jsonrpc': '2.0', 'id': 8, 'result': None}\n",
      "DEBUG:web3.manager.RequestManager:Making request. Method: eth_getTransactionReceipt\n",
      "DEBUG:web3.providers.HTTPProvider:Making request HTTP. URI: http://18.218.115.248:8545, Method: eth_getTransactionReceipt\n",
      "DEBUG:urllib3.connectionpool:http://18.218.115.248:8545 \"POST / HTTP/11\" 200 39\n",
      "DEBUG:web3.providers.HTTPProvider:Getting response HTTP. URI: http://18.218.115.248:8545, Method: eth_getTransactionReceipt, Response: {'jsonrpc': '2.0', 'id': 9, 'result': None}\n",
      "DEBUG:web3.manager.RequestManager:Making request. Method: eth_getTransactionReceipt\n",
      "DEBUG:web3.providers.HTTPProvider:Making request HTTP. URI: http://18.218.115.248:8545, Method: eth_getTransactionReceipt\n",
      "DEBUG:urllib3.connectionpool:http://18.218.115.248:8545 \"POST / HTTP/11\" 200 40\n",
      "DEBUG:web3.providers.HTTPProvider:Getting response HTTP. URI: http://18.218.115.248:8545, Method: eth_getTransactionReceipt, Response: {'jsonrpc': '2.0', 'id': 10, 'result': None}\n",
      "DEBUG:web3.manager.RequestManager:Making request. Method: eth_getTransactionReceipt\n",
      "DEBUG:web3.providers.HTTPProvider:Making request HTTP. URI: http://18.218.115.248:8545, Method: eth_getTransactionReceipt\n",
      "DEBUG:urllib3.connectionpool:http://18.218.115.248:8545 \"POST / HTTP/11\" 200 40\n",
      "DEBUG:web3.providers.HTTPProvider:Getting response HTTP. URI: http://18.218.115.248:8545, Method: eth_getTransactionReceipt, Response: {'jsonrpc': '2.0', 'id': 11, 'result': None}\n",
      "DEBUG:web3.manager.RequestManager:Making request. Method: eth_getTransactionReceipt\n",
      "DEBUG:web3.providers.HTTPProvider:Making request HTTP. URI: http://18.218.115.248:8545, Method: eth_getTransactionReceipt\n",
      "DEBUG:urllib3.connectionpool:http://18.218.115.248:8545 \"POST / HTTP/11\" 200 40\n",
      "DEBUG:web3.providers.HTTPProvider:Getting response HTTP. URI: http://18.218.115.248:8545, Method: eth_getTransactionReceipt, Response: {'jsonrpc': '2.0', 'id': 12, 'result': None}\n",
      "DEBUG:web3.manager.RequestManager:Making request. Method: eth_getTransactionReceipt\n",
      "DEBUG:web3.providers.HTTPProvider:Making request HTTP. URI: http://18.218.115.248:8545, Method: eth_getTransactionReceipt\n",
      "DEBUG:urllib3.connectionpool:http://18.218.115.248:8545 \"POST / HTTP/11\" 200 40\n",
      "DEBUG:web3.providers.HTTPProvider:Getting response HTTP. URI: http://18.218.115.248:8545, Method: eth_getTransactionReceipt, Response: {'jsonrpc': '2.0', 'id': 13, 'result': None}\n",
      "DEBUG:web3.manager.RequestManager:Making request. Method: eth_getTransactionReceipt\n",
      "DEBUG:web3.providers.HTTPProvider:Making request HTTP. URI: http://18.218.115.248:8545, Method: eth_getTransactionReceipt\n",
      "DEBUG:urllib3.connectionpool:http://18.218.115.248:8545 \"POST / HTTP/11\" 200 None\n",
      "DEBUG:web3.providers.HTTPProvider:Getting response HTTP. URI: http://18.218.115.248:8545, Method: eth_getTransactionReceipt, Response: {'jsonrpc': '2.0', 'id': 14, 'result': {'blockHash': '0xaf984becd77afa5a61adbbd6835ba4847d4583780c6099dc5dd2b4ff85b4fd8e', 'blockNumber': '0x19e', 'contractAddress': None, 'cumulativeGasUsed': '0x275aa', 'effectiveGasPrice': '0x0', 'from': '0xeb155ecc59fcc2ebdef6dea1711597a5dacefb30', 'gasUsed': '0x275aa', 'logs': [{'address': '0xd06aba37d08bd2307728dcedbef0aa4522b22ce7', 'topics': ['0x9d104652392d62a7262850513aecdfac3d1ff61f19b0bac18ed9a8a89cc9ec8e'], 'data': '0x0000000000000000000000000000000000000000000000000000000000000020000000000000000000000000000000000000000000000000000000000000006000000000000000000000000000000000000000000000000000000000000001800000000000000000000000000000000000000000000000000000000000000000000000000000000000000000000000000000000000000000000000000000000100000000000000000000000000000000000000000000000000000000000000200000000000000000000000000000000000000000000000000000000000000040000000000000000000000000000000000000000000000000000000000000008000000000000000000000000000000000000000000000000000000000000000066f757470757400000000000000000000000000000000000000000000000000000000000000000000000000000000000000000000000000000000000000000001000000000000000000000000000000000000000000000840b7fb1c19729f7fc900000000000000000000000000000000000000000000000000000000000000160000000000000000000000000000000000000000000000000000000000000000', 'blockNumber': '0x0', 'transactionHash': '0x0000000000000000000000000000000000000000000000000000000000000000', 'transactionIndex': '0x0', 'blockHash': '0x0000000000000000000000000000000000000000000000000000000000000000', 'logIndex': '0x0', 'removed': False}], 'logsBloom': '0x00000000000000000000000000000000000000000000000000000000000000000000000000000000000000000000000000000040000000000000000000000000000000000000000000000000000000000000000000000000000000000000000000000000000000000000000000000000000000000000000000020000000000000000000000000000000000000000000000000000000000100080000000000000000000000000000000000000000000000000000000000000000000000000000000000000000000000000000000000000000000000000000000080000000000000000000002000000000000000000000000000000000000000000000000000000', 'status': '0x1', 'to': '0xd06aba37d08bd2307728dcedbef0aa4522b22ce7', 'transactionHash': '0x81093caa986ac690bd3585667be014d8f1a90de4a91e81807edf3e5e34133fdd', 'transactionIndex': '0x1', 'type': '0x0'}}\n",
      "DEBUG:root:Transaction receipt received: AttributeDict({'blockHash': HexBytes('0xaf984becd77afa5a61adbbd6835ba4847d4583780c6099dc5dd2b4ff85b4fd8e'), 'blockNumber': 414, 'contractAddress': None, 'cumulativeGasUsed': 161194, 'effectiveGasPrice': 0, 'from': '0xeB155EcC59fcc2eBdeF6dEa1711597A5dacEfB30', 'gasUsed': 161194, 'logs': [AttributeDict({'address': '0xD06aBA37d08Bd2307728DcedBEf0aa4522B22ce7', 'topics': [HexBytes('0x9d104652392d62a7262850513aecdfac3d1ff61f19b0bac18ed9a8a89cc9ec8e')], 'data': HexBytes('0x0000000000000000000000000000000000000000000000000000000000000020000000000000000000000000000000000000000000000000000000000000006000000000000000000000000000000000000000000000000000000000000001800000000000000000000000000000000000000000000000000000000000000000000000000000000000000000000000000000000000000000000000000000000100000000000000000000000000000000000000000000000000000000000000200000000000000000000000000000000000000000000000000000000000000040000000000000000000000000000000000000000000000000000000000000008000000000000000000000000000000000000000000000000000000000000000066f757470757400000000000000000000000000000000000000000000000000000000000000000000000000000000000000000000000000000000000000000001000000000000000000000000000000000000000000000840b7fb1c19729f7fc900000000000000000000000000000000000000000000000000000000000000160000000000000000000000000000000000000000000000000000000000000000'), 'blockNumber': 0, 'transactionHash': HexBytes('0x0000000000000000000000000000000000000000000000000000000000000000'), 'transactionIndex': 0, 'blockHash': HexBytes('0x0000000000000000000000000000000000000000000000000000000000000000'), 'logIndex': 0, 'removed': False})], 'logsBloom': HexBytes('0x00000000000000000000000000000000000000000000000000000000000000000000000000000000000000000000000000000040000000000000000000000000000000000000000000000000000000000000000000000000000000000000000000000000000000000000000000000000000000000000000000020000000000000000000000000000000000000000000000000000000000100080000000000000000000000000000000000000000000000000000000000000000000000000000000000000000000000000000000000000000000000000000000080000000000000000000002000000000000000000000000000000000000000000000000000000'), 'status': 1, 'to': '0xD06aBA37d08Bd2307728DcedBEf0aa4522B22ce7', 'transactionHash': HexBytes('0x81093caa986ac690bd3585667be014d8f1a90de4a91e81807edf3e5e34133fdd'), 'transactionIndex': 1, 'type': 0})\n",
      "DEBUG:root:Raw event data: AttributeDict({'output': AttributeDict({'numbers': [AttributeDict({'name': 'output', 'values': [AttributeDict({'value': 38972780704498291015625, 'decimals': 22})]})], 'strings': [], 'is_simulation_result': False})})\n",
      "DEBUG:root:Parsing event data: AttributeDict({'output': AttributeDict({'numbers': [AttributeDict({'name': 'output', 'values': [AttributeDict({'value': 38972780704498291015625, 'decimals': 22})]})], 'strings': [], 'is_simulation_result': False})})\n",
      "DEBUG:root:Output data: AttributeDict({'numbers': [AttributeDict({'name': 'output', 'values': [AttributeDict({'value': 38972780704498291015625, 'decimals': 22})]})], 'strings': [], 'is_simulation_result': False})\n",
      "DEBUG:root:Processing number tensor: AttributeDict({'name': 'output', 'values': [AttributeDict({'value': 38972780704498291015625, 'decimals': 22})]})\n",
      "DEBUG:root:Parsed numbers: [NumberTensor(name='output', values=[Number(value=38972780704498291015625, decimals=22)])]\n",
      "DEBUG:root:Parsed strings: []\n",
      "DEBUG:root:Is simulation result: False\n",
      "DEBUG:root:Parsed ModelOutput: ModelOutput(numbers=[NumberTensor(name='output', values=[Number(value=38972780704498291015625, decimals=22)])], strings=[], is_simulation_result=False)\n"
     ]
    },
    {
     "name": "stdout",
     "output_type": "stream",
     "text": [
      "Transaction hash: 81093caa986ac690bd3585667be014d8f1a90de4a91e81807edf3e5e34133fdd\n",
      "Model output: ModelOutput(numbers=[NumberTensor(name='output', values=[Number(value=38972780704498291015625, decimals=22)])], strings=[], is_simulation_result=False)\n"
     ]
    }
   ],
   "source": [
    "print(\"\\nStep 6: Running inference\")\n",
    "try:\n",
    "    tx_hash, model_output = og.infer(model_id, inference_mode, model_input)\n",
    "    print(f\"Transaction hash: {tx_hash}\")\n",
    "    print(f\"Model output: {model_output}\")\n",
    "except Exception as e:\n",
    "    print(f\"An error occurred during inference: {str(e)}\")\n",
    "    print(f\"Error type: {type(e)}\")\n",
    "    import traceback\n",
    "    print(\"Traceback:\")\n",
    "    print(traceback.format_exc())"
   ]
  },
  {
   "cell_type": "code",
   "execution_count": null,
   "metadata": {},
   "outputs": [],
   "source": []
  }
 ],
 "metadata": {
  "kernelspec": {
   "display_name": "vanna-storage",
   "language": "python",
   "name": "python3"
  },
  "language_info": {
   "codemirror_mode": {
    "name": "ipython",
    "version": 3
   },
   "file_extension": ".py",
   "mimetype": "text/x-python",
   "name": "python",
   "nbconvert_exporter": "python",
   "pygments_lexer": "ipython3",
   "version": "3.12.4"
  }
 },
 "nbformat": 4,
 "nbformat_minor": 2
}
