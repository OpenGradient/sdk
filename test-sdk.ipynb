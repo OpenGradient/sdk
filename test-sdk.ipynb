{
 "cells": [
  {
   "cell_type": "code",
   "execution_count": null,
   "metadata": {},
   "outputs": [],
   "source": [
    "!python setup.py sdist bdist_wheel\n",
    "!pip install dist/opengradient-0.1.0.tar.gz"
   ]
  },
  {
   "cell_type": "code",
   "execution_count": null,
   "metadata": {},
   "outputs": [],
   "source": [
    "import opengradient as og\n",
    "import json\n",
    "import numpy as np\n",
    "\n",
    "print(\"Step 1: Importing modules\")\n",
    "print(f\"OpenGradient version: {og.__version__}\")\n"
   ]
  },
  {
   "cell_type": "code",
   "execution_count": null,
   "metadata": {},
   "outputs": [],
   "source": [
    "print(\"Step 3: Initializing OpenGradient client\")\n",
    "og.init(wallet_address=\"0xeB155EcC59fcc2eBdeF6dEa1711597A5dacEfB30\", private_key=\"cd09980ef6e280afc3900d2d6801f9e9c5d858a5deaeeab74a65643f5ff1a4c1\")\n",
    "print(\"OpenGradient client initialized\")"
   ]
  },
  {
   "cell_type": "code",
   "execution_count": null,
   "metadata": {},
   "outputs": [],
   "source": [
    "print(\"\\nStep 4: Preparing model input\")\n",
    "# Model input format is a dictionary of\n",
    "#   key = input name\n",
    "#   value = list of input tensor data\n",
    "from pprint import pprint\n",
    "try:\n",
    "    model_input = {}\n",
    "    model_input[\"num_input1\"] = np.array([1.0, 2.0, 3.0])\n",
    "    model_input[\"num_input2\"] = np.array([10.0])\n",
    "    model_input[\"str_input1\"] = np.array([\"hello\", \"ONNX\"])\n",
    "    model_input[\"str_input2\"] = np.array([\" world\"])\n",
    "    print(f\"ModelInput created successfully:\")\n",
    "    pprint(model_input)\n",
    "except Exception as e:\n",
    "    print(f\"Error creating ModelInput: {str(e)}\")\n",
    "    raise"
   ]
  },
  {
   "cell_type": "code",
   "execution_count": null,
   "metadata": {},
   "outputs": [],
   "source": [
    "print(\"\\nStep 5: Setting model ID and inference mode\")\n",
    "model_id = \"QmbUqS93oc4JTLMHwpVxsE39mhNxy6hpf6Py3r9oANr8aZ\"\n",
    "inference_mode = og.InferenceMode.VANILLA\n",
    "print(f\"Model ID: {model_id}\")\n",
    "print(f\"Inference mode: {inference_mode}\")"
   ]
  },
  {
   "cell_type": "code",
   "execution_count": null,
   "metadata": {},
   "outputs": [],
   "source": [
    "print(\"\\nStep 6: Running inference\")\n",
    "from pprint import pprint\n",
    "try:\n",
    "    tx_hash, model_output = og.infer(model_id, inference_mode, model_input)\n",
    "    print(f\"Transaction hash: {tx_hash}\")\n",
    "    print(f\"Model output: {model_output}\")\n",
    "\n",
    "    pprint(model_output)\n",
    "\n",
    "except Exception as e:\n",
    "    print(f\"An error occurred during inference: {str(e)}\")\n",
    "    print(f\"Error type: {type(e)}\")\n",
    "    import traceback\n",
    "    print(\"Traceback:\")\n",
    "    print(traceback.format_exc())"
   ]
  },
  {
   "cell_type": "code",
   "execution_count": null,
   "metadata": {},
   "outputs": [],
   "source": []
  }
 ],
 "metadata": {
  "kernelspec": {
   "display_name": "vanna-storage",
   "language": "python",
   "name": "python3"
  },
  "language_info": {
   "codemirror_mode": {
    "name": "ipython",
    "version": 3
   },
   "file_extension": ".py",
   "mimetype": "text/x-python",
   "name": "python",
   "nbconvert_exporter": "python",
   "pygments_lexer": "ipython3",
   "version": "3.12.3"
  }
 },
 "nbformat": 4,
 "nbformat_minor": 2
}
