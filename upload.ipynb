{
 "cells": [
  {
   "cell_type": "code",
   "execution_count": null,
   "metadata": {},
   "outputs": [],
   "source": [
    "!pip install dist/opengradient-0.4.1-py3-none-any.whl"
   ]
  },
  {
   "cell_type": "code",
   "execution_count": 9,
   "metadata": {},
   "outputs": [],
   "source": [
    "import opengradient as og\n",
    "\n",
    "og.init(private_key=\"697c292edbca1674d6390146c5f8979f056217bb14e602d93982f4b3353ce14e\", email=\"oliver@opengradient.ai\", password=\"Test1234!\")"
   ]
  },
  {
   "cell_type": "code",
   "execution_count": null,
   "metadata": {},
   "outputs": [],
   "source": [
    "# Define the Hugging Face repository, model name, and description\n",
    "repo_id = \"microsoft/resnet-50\"\n",
    "model_name = \"resnet50-onnx\"\n",
    "model_description = \"ResNet-50 model in ONNX format, uploaded from Hugging Face\""
   ]
  },
  {
   "cell_type": "code",
   "execution_count": null,
   "metadata": {},
   "outputs": [],
   "source": [
    "# Create model and upload ONNX files and README from the Hugging Face repository\n",
    "try:\n",
    "    result = og.create_model_from_huggingface(\n",
    "        repo_id=repo_id,\n",
    "        model_name=model_name,\n",
    "        model_desc=model_description\n",
    "    )\n",
    "    print(\"Model creation and upload result:\", result)\n",
    "except Exception as e:\n",
    "    print(\"Error during model creation and upload:\", str(e))\n"
   ]
  },
  {
   "cell_type": "code",
   "execution_count": null,
   "metadata": {},
   "outputs": [],
   "source": [
    "# If you want to upload additional files or update an existing model, you can use upload_from_huggingface\n",
    "try:\n",
    "    uploaded_files = og.upload_from_huggingface(repo_id, model_name, version=\"0.01\")\n",
    "    print(\"Additionally uploaded files:\")\n",
    "    for file in uploaded_files:\n",
    "        print(f\"- {file}\")\n",
    "except Exception as e:\n",
    "    print(\"Error during additional upload:\", str(e))"
   ]
  }
 ],
 "metadata": {
  "kernelspec": {
   "display_name": "base",
   "language": "python",
   "name": "python3"
  },
  "language_info": {
   "codemirror_mode": {
    "name": "ipython",
    "version": 3
   },
   "file_extension": ".py",
   "mimetype": "text/x-python",
   "name": "python",
   "nbconvert_exporter": "python",
   "pygments_lexer": "ipython3",
   "version": "3.12.2"
  }
 },
 "nbformat": 4,
 "nbformat_minor": 2
}
